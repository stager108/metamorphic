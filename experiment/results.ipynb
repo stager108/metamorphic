{
 "cells": [
  {
   "cell_type": "code",
   "execution_count": null,
   "metadata": {},
   "outputs": [],
   "source": [
    "import pandas as pd\n",
    "import matplotlib.pyplot as plt"
   ]
  },
  {
   "cell_type": "code",
   "execution_count": null,
   "metadata": {
    "scrolled": false
   },
   "outputs": [],
   "source": [
    "fig, axs = plt.subplots(5, figsize=(12,8))\n",
    "#fig.suptitle('Добавление новых копий', fontsize=20)\n",
    "#fig.tight_layout(pad=3)\n",
    "\n",
    "fig.text(0.5, 0.05, 'Координата на референсе', ha='center',fontsize=15)\n",
    "fig.text(0.07, 0.5, 'Depth ratio', va='center', rotation='vertical', fontsize=15)\n",
    "\n",
    "for i in range(0, 5):\n",
    "    data = pd.DataFrame(pd.read_csv('/home/user67/metamorphic/results/test1all/genome_mut_i'+str(i) + '_seq.seqz', sep='\\t'))\n",
    "    axs[i].plot(data['position'], data['depth.ratio'], color='gray')\n",
    "    axs[i].set_ylim(ymax=3, ymin=0)\n",
    "plt.show()"
   ]
  },
  {
   "cell_type": "code",
   "execution_count": null,
   "metadata": {},
   "outputs": [],
   "source": [
    "#! pip install pyvcf"
   ]
  },
  {
   "cell_type": "code",
   "execution_count": null,
   "metadata": {},
   "outputs": [],
   "source": [
    "import vcf\n",
    "plt.figure(figsize=(12, 8))\n",
    "\n",
    "#plt.title('Добавление точечных изменений', fontsize=20)\n",
    "\n",
    "plt.xlabel('Координата на референсе', ha='center',fontsize=15)\n",
    "plt.ylabel('Номер теста', va='center', rotation='vertical', fontsize=15)\n",
    "plt.grid(axis='x')\n",
    "for i in range(5):\n",
    "    vcf_reader = vcf.Reader(open('/home/user67/metamorphic/results/test1all/test1all_i0'+str(4-i) + '_som.vcf', 'r'))\n",
    "    for record in vcf_reader:\n",
    "      #  print(record)\n",
    "        plt.scatter(record.POS, 5 - i, color='gray')\n",
    "        plt.xlim(xmin=-3000, xmax=170000)\n",
    "      #  break\n",
    "plt.show()"
   ]
  },
  {
   "cell_type": "markdown",
   "metadata": {},
   "source": [
    "### Множества"
   ]
  },
  {
   "cell_type": "code",
   "execution_count": null,
   "metadata": {},
   "outputs": [],
   "source": [
    "import vcf\n",
    "sets = list()\n",
    "for i in range(5):\n",
    "    vcf_reader = vcf.Reader(open('/home/user67/metamorphic/results/test1all/test1all_i0'+str(i) + '_germ.vcf', 'r'))\n",
    "    starts = [record.POS for record in vcf_reader]\n",
    "    sets.append(set(starts))\n",
    "\n",
    "for i in range(0, 5):\n",
    "    for j in range(i, 5):\n",
    "        print(i, j, sets[i].difference(sets[j]))"
   ]
  },
  {
   "cell_type": "code",
   "execution_count": null,
   "metadata": {},
   "outputs": [],
   "source": [
    "import vcf\n",
    "sets = list()\n",
    "for i in range(5):\n",
    "    vcf_reader = vcf.Reader(open('experiment/results/test_i/test_i_0'+str(4 - i) + '.vcf', 'r'))\n",
    "    starts = set([(record.POS, str(record.REF), str(record.ALT)) for record in vcf_reader])\n",
    "    sets.append(starts)\n",
    "\n",
    "#print(sets)\n",
    "for i in range(0, 5):\n",
    "    for j in range(i, 5):\n",
    "        print(i, j, sets[i].difference(sets[j]))"
   ]
  },
  {
   "cell_type": "code",
   "execution_count": null,
   "metadata": {
    "scrolled": true
   },
   "outputs": [],
   "source": [
    "import vcf\n",
    "sets = list()\n",
    "for i in range(5):\n",
    "    vcf_reader = vcf.Reader(open('experiment/results/test_d/test_d_0'+str(4 - i) + '.vcf', 'r'))\n",
    "    starts = set([(record.POS, str(record.REF), str(record.ALT)) for record in vcf_reader])\n",
    "    sets.append(starts)\n",
    "\n",
    "#print(sets)\n",
    "for i in range(0, 5):\n",
    "    for j in range(i, 5):\n",
    "        print(i, j, sets[i].difference(sets[j]))"
   ]
  },
  {
   "cell_type": "code",
   "execution_count": null,
   "metadata": {},
   "outputs": [],
   "source": [
    "import vcf\n",
    "sets = list()\n",
    "for i in range(5):\n",
    "    vcf_reader = vcf.Reader(open('experiment/results/test_p/test_p_0'+str(4 - i) + '.vcf', 'r'))\n",
    "    starts = set([(record.POS, str(record.REF), str(record.ALT)) for record in vcf_reader])\n",
    "    sets.append(starts)\n",
    "\n",
    "#print(sets)\n",
    "for i in range(0, 5):\n",
    "    for j in range(i, 5):\n",
    "        print(i, j, sets[i].difference(sets[j]))"
   ]
  },
  {
   "cell_type": "markdown",
   "metadata": {},
   "source": [
    "### Сравнение строк"
   ]
  },
  {
   "cell_type": "code",
   "execution_count": null,
   "metadata": {},
   "outputs": [],
   "source": [
    "import vcf\n",
    "sets = list()\n",
    "for i in range(5):\n",
    "    vcf_reader = vcf.Reader(open('/home/user67/metamorphic/results/test1g/test1g_i0'+str(4 - i) + '.vcf', 'r'))\n",
    "    starts = [(record.POS, str(record.REF), i) for record in vcf_reader]\n",
    "    sets.append(starts)\n"
   ]
  },
  {
   "cell_type": "code",
   "execution_count": null,
   "metadata": {},
   "outputs": [],
   "source": [
    "class NumStr:\n",
    "    def __init__(self, x):\n",
    "        self.v = x\n",
    "    \n",
    "    def right(self):\n",
    "        return self.v[0] + len(self.v[1])\n",
    "    \n",
    "    def left(self):\n",
    "        return self.v[0]\n",
    "    \n",
    "    def __repr__(self):\n",
    "        return str(self.v[0]) + ' ' + self.v[1] +' ' + str(self.v[2])\n",
    "\n",
    "def cmp(self, other):\n",
    "    res = -1\n",
    "    if self.v[0] > other.v[0]:\n",
    "        res = 1\n",
    "    elif self.v[0] == other.v[0] and len(self.v[1]) > len(other.v[1]):\n",
    "        res = 1\n",
    "    elif self.v[0] == other.v[0] and len(self.v[1]) == len(other.v[1]) and self.v[2] > other.v[2]:\n",
    "        res = 1\n",
    "    elif self.v[0] == other.v[0] and len(self.v[1]) == len(other.v[1]) and self.v[2] == other.v[2]:\n",
    "        res = 0\n",
    "    return res\n",
    "#record = [NumStr(z) for z in testset]\n",
    "#print(sorted(record))\n",
    "#print(record[::-1])"
   ]
  },
  {
   "cell_type": "code",
   "execution_count": null,
   "metadata": {},
   "outputs": [],
   "source": [
    "from functools import cmp_to_key\n",
    "\n",
    "def difference(a, b):\n",
    "    k = 0\n",
    "    diff = 0\n",
    "    comm = 0\n",
    "    c = [NumStr(z) for z in a + b]\n",
    "    \n",
    "    c.sort(key=cmp_to_key(cmp))\n",
    "    curlist = c\n",
    "  #  print(curlist)\n",
    "    str_a =''\n",
    "    str_b =''\n",
    "    ind = a[0][2]\n",
    "    ink = len(curlist) - 1\n",
    "    \n",
    "    pos_a, pos_b = curlist[0].left(), curlist[0].left()\n",
    "    \n",
    "    for i in range(ink):\n",
    "        if curlist[i].v[2] == ind:\n",
    "            str_a += curlist[i].v[1]\n",
    "            pos_a = curlist[i].right()\n",
    "            if pos_a <= curlist[i+1].left():\n",
    "                str_b += ''.join(['N' for i in range(len(str_a) - len(str_b))])\n",
    "                pos_b = pos_a = curlist[i+1].left()\n",
    "            else:\n",
    "                str_b += ''.join(['N' for i in range(curlist[i+1].left() - pos_b)])\n",
    "                pos_b = curlist[i+1].left()\n",
    "           # str_b += ''.join(['N' for i in range(min(curlist[i+1].left(), pos_a) - pos_b)])\n",
    "        else:\n",
    "            str_b += curlist[i].v[1]\n",
    "            pos_b = curlist[i].right()\n",
    "            if pos_b <= curlist[i+1].left():\n",
    "                str_a += ''.join(['N' for i in range(len(str_b) - len(str_a))])\n",
    "                pos_a = pos_b = curlist[i+1].left()\n",
    "            else:\n",
    "                str_a += ''.join(['N' for i in range(curlist[i+1].left() - pos_a)])\n",
    "                pos_a = curlist[i+1].left()\n",
    "          #  str_a += ''.join(['N' for i in range(min(curlist[i+1].left(), pos_b)- pos_a)])\n",
    "#        print(curlist[i].v[2], pos_a, pos_b, len(str_a), len(str_b))\n",
    "    if curlist[ink].v[2] == ind:\n",
    "        str_a += curlist[ink].v[1]\n",
    "    else:\n",
    "        str_b += curlist[ink].v[1]\n",
    "    if len(str_b)<len(str_a):\n",
    "        str_b += ''.join(['N' for i in range(len(str_a) - len(str_b))])\n",
    "    else:\n",
    "        str_a += ''.join(['N' for i in range(len(str_b) - len(str_a))])\n",
    "        \n",
    "    for i in range(len(str_a)):\n",
    "        if str_a[i] != 'N':\n",
    "            if str_a[i]!= str_b[i]:\n",
    "                diff += 1\n",
    "            else:\n",
    "                comm += 1\n",
    "    return diff, comm, len(str_a)"
   ]
  },
  {
   "cell_type": "code",
   "execution_count": null,
   "metadata": {
    "scrolled": false
   },
   "outputs": [],
   "source": [
    "for i in range(5):\n",
    "    for j in range(i+1, 5):\n",
    "        print(i, j, difference(sets[i], sets[j]))"
   ]
  },
  {
   "cell_type": "markdown",
   "metadata": {},
   "source": [
    "### Depth ratio"
   ]
  },
  {
   "cell_type": "code",
   "execution_count": null,
   "metadata": {},
   "outputs": [],
   "source": [
    "from sklearn.metrics import mean_squared_error as mse\n",
    "from sklearn.metrics import mean_absolute_error as mae\n",
    "import pandas as pd\n",
    "\n",
    "for i in range(0, 5):\n",
    "    for j in range(i+1, 5):\n",
    "        data1 = pd.DataFrame(pd.read_csv('/home/sophia/metamorphic/experiment/results/test_i/genome_mut_i'+\\\n",
    "                                        str(i) + '_seq.txt', sep='\\t'))[['position', \n",
    "                                                                         'depth.ratio']].set_index('position')\n",
    "        data2 = pd.DataFrame(pd.read_csv('/home/sophia/metamorphic/experiment/results/test_i/genome_mut_i'+\\\n",
    "                                        str(j) + '_seq.txt', sep='\\t'))[['position', \n",
    "                                                                         'depth.ratio']].set_index('position')\n",
    "        res = pd.merge(data1, data2, how=\"inner\", on='position')\n",
    "        print(i, j, (res['depth.ratio_y'] - res['depth.ratio_x']).mean())\n",
    "\n"
   ]
  },
  {
   "cell_type": "code",
   "execution_count": null,
   "metadata": {},
   "outputs": [],
   "source": []
  }
 ],
 "metadata": {
  "kernelspec": {
   "display_name": "Python 3",
   "language": "python",
   "name": "python3"
  },
  "language_info": {
   "codemirror_mode": {
    "name": "ipython",
    "version": 3
   },
   "file_extension": ".py",
   "mimetype": "text/x-python",
   "name": "python",
   "nbconvert_exporter": "python",
   "pygments_lexer": "ipython3",
   "version": "3.7.3"
  }
 },
 "nbformat": 4,
 "nbformat_minor": 4
}
